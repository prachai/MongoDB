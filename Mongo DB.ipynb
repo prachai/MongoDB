{
 "cells": [
  {
   "cell_type": "markdown",
   "metadata": {},
   "source": [
    "1. import\n",
    "2. client connection\n",
    "3. creating Db\n",
    "4. collection groups in Db\n",
    "5. inserting records"
   ]
  },
  {
   "cell_type": "code",
   "execution_count": 1,
   "metadata": {},
   "outputs": [],
   "source": [
    "import pymongo"
   ]
  },
  {
   "cell_type": "code",
   "execution_count": 2,
   "metadata": {},
   "outputs": [],
   "source": [
    "client=pymongo.MongoClient('mongodb://127.0.0.1:27017/')"
   ]
  },
  {
   "cell_type": "code",
   "execution_count": 3,
   "metadata": {},
   "outputs": [],
   "source": [
    "MyDb=client['pradeep']"
   ]
  },
  {
   "cell_type": "code",
   "execution_count": 4,
   "metadata": {},
   "outputs": [],
   "source": [
    "info=MyDb.workinformations"
   ]
  },
  {
   "cell_type": "code",
   "execution_count": 5,
   "metadata": {},
   "outputs": [],
   "source": [
    "# Single entry\n",
    "record={'firstname':'pradeep',\n",
    "       'lastname':'meti',\n",
    "       'department':'ece',\n",
    "        'qualification':'BE',\n",
    "        'age':27\n",
    "       }"
   ]
  },
  {
   "cell_type": "code",
   "execution_count": 6,
   "metadata": {},
   "outputs": [
    {
     "data": {
      "text/plain": [
       "<pymongo.results.InsertOneResult at 0x249928cec08>"
      ]
     },
     "execution_count": 6,
     "metadata": {},
     "output_type": "execute_result"
    }
   ],
   "source": [
    "# insert \n",
    "info.insert_one(record)"
   ]
  },
  {
   "cell_type": "code",
   "execution_count": null,
   "metadata": {},
   "outputs": [],
   "source": []
  },
  {
   "cell_type": "code",
   "execution_count": 7,
   "metadata": {},
   "outputs": [],
   "source": [
    "#Multiple entry\n",
    "records=[{\n",
    "  'firstname':'akshay',\n",
    "       'lastname':'meti',\n",
    "       'department':'mech',\n",
    "        'qualification':'Mtech',\n",
    "        'age':31  \n",
    "    },\n",
    "{    'firstname':'chaitra',\n",
    "       'lastname':'meti',\n",
    "       'department':'civil',\n",
    "        'qualification':'MS',\n",
    "        'age':35\n",
    "},\n",
    "    {    'firstname':'shwetha',\n",
    "       'lastname':'meti',\n",
    "       'department':'ece',\n",
    "        'qualification':'PHD',\n",
    "        'age':33\n",
    "}\n",
    "]"
   ]
  },
  {
   "cell_type": "code",
   "execution_count": 8,
   "metadata": {},
   "outputs": [
    {
     "data": {
      "text/plain": [
       "<pymongo.results.InsertManyResult at 0x249924cc488>"
      ]
     },
     "execution_count": 8,
     "metadata": {},
     "output_type": "execute_result"
    }
   ],
   "source": [
    "#multiple insertion\n",
    "info.insert_many(records)"
   ]
  },
  {
   "cell_type": "markdown",
   "metadata": {},
   "source": [
    "# Fetching"
   ]
  },
  {
   "cell_type": "code",
   "execution_count": 9,
   "metadata": {},
   "outputs": [
    {
     "data": {
      "text/plain": [
       "{'_id': ObjectId('5f0b27488b81520990b159f5'),\n",
       " 'firstname': 'pradeep',\n",
       " 'lastname': 'meti',\n",
       " 'department': 'ece',\n",
       " 'qualification': 'BE',\n",
       " 'age': 27}"
      ]
     },
     "execution_count": 9,
     "metadata": {},
     "output_type": "execute_result"
    }
   ],
   "source": [
    "#it will always takes first entry\n",
    "info.find_one()"
   ]
  },
  {
   "cell_type": "markdown",
   "metadata": {},
   "source": [
    "FETCHING MULTIPLE DATA "
   ]
  },
  {
   "cell_type": "markdown",
   "metadata": {},
   "source": [
    "IT PRINTS ALL DATA"
   ]
  },
  {
   "cell_type": "code",
   "execution_count": 11,
   "metadata": {},
   "outputs": [
    {
     "name": "stdout",
     "output_type": "stream",
     "text": [
      "{'_id': ObjectId('5f0b27488b81520990b159f5'), 'firstname': 'pradeep', 'lastname': 'meti', 'department': 'ece', 'qualification': 'BE', 'age': 27}\n",
      "{'_id': ObjectId('5f0b27978b81520990b159f6'), 'firstname': 'akshay', 'lastname': 'meti', 'department': 'mech', 'qualification': 'Mtech', 'age': 31}\n",
      "{'_id': ObjectId('5f0b27978b81520990b159f7'), 'firstname': 'chaitra', 'lastname': 'meti', 'department': 'civil', 'qualification': 'MS', 'age': 35}\n",
      "{'_id': ObjectId('5f0b27978b81520990b159f8'), 'firstname': 'shwetha', 'lastname': 'meti', 'department': 'ece', 'qualification': 'PHD', 'age': 33}\n"
     ]
    }
   ],
   "source": [
    "for pp in info.find():\n",
    "    print(pp)"
   ]
  },
  {
   "cell_type": "markdown",
   "metadata": {},
   "source": [
    "FETCHING SPECIFIC DATA"
   ]
  },
  {
   "cell_type": "code",
   "execution_count": 12,
   "metadata": {},
   "outputs": [
    {
     "name": "stdout",
     "output_type": "stream",
     "text": [
      "{'_id': ObjectId('5f0b27488b81520990b159f5'), 'firstname': 'pradeep', 'lastname': 'meti', 'department': 'ece', 'qualification': 'BE', 'age': 27}\n"
     ]
    }
   ],
   "source": [
    "for pp in info.find({'firstname':'pradeep'}):\n",
    "    print(pp)"
   ]
  },
  {
   "cell_type": "markdown",
   "metadata": {},
   "source": [
    "QUERY \n",
    "(in, lt, or)"
   ]
  },
  {
   "cell_type": "markdown",
   "metadata": {},
   "source": [
    "$in"
   ]
  },
  {
   "cell_type": "code",
   "execution_count": 14,
   "metadata": {},
   "outputs": [
    {
     "name": "stdout",
     "output_type": "stream",
     "text": [
      "{'_id': ObjectId('5f0b27488b81520990b159f5'), 'firstname': 'pradeep', 'lastname': 'meti', 'department': 'ece', 'qualification': 'BE', 'age': 27}\n",
      "{'_id': ObjectId('5f0b27978b81520990b159f8'), 'firstname': 'shwetha', 'lastname': 'meti', 'department': 'ece', 'qualification': 'PHD', 'age': 33}\n"
     ]
    }
   ],
   "source": [
    "for pp in info.find({'firstname':{'$in':['pradeep','shwetha']}}):\n",
    "                     print(pp)"
   ]
  },
  {
   "cell_type": "markdown",
   "metadata": {},
   "source": [
    "$lt LESS THAN "
   ]
  },
  {
   "cell_type": "code",
   "execution_count": 15,
   "metadata": {},
   "outputs": [
    {
     "name": "stdout",
     "output_type": "stream",
     "text": [
      "{'_id': ObjectId('5f0b27978b81520990b159f8'), 'firstname': 'shwetha', 'lastname': 'meti', 'department': 'ece', 'qualification': 'PHD', 'age': 33}\n"
     ]
    }
   ],
   "source": [
    "for pp in info.find({'qualification':'PHD','age':{'$lt':38}}):\n",
    "    print(pp)\n"
   ]
  },
  {
   "cell_type": "markdown",
   "metadata": {},
   "source": [
    "$or "
   ]
  },
  {
   "cell_type": "code",
   "execution_count": 16,
   "metadata": {},
   "outputs": [
    {
     "name": "stdout",
     "output_type": "stream",
     "text": [
      "{'_id': ObjectId('5f0b27488b81520990b159f5'), 'firstname': 'pradeep', 'lastname': 'meti', 'department': 'ece', 'qualification': 'BE', 'age': 27}\n",
      "{'_id': ObjectId('5f0b27978b81520990b159f8'), 'firstname': 'shwetha', 'lastname': 'meti', 'department': 'ece', 'qualification': 'PHD', 'age': 33}\n"
     ]
    }
   ],
   "source": [
    "for pp in info.find({'$or':[{'firstname':'pradeep'},{'qualification':'PHD'}]}):\n",
    "    print(pp)\n"
   ]
  },
  {
   "cell_type": "markdown",
   "metadata": {},
   "source": [
    "$and"
   ]
  },
  {
   "cell_type": "code",
   "execution_count": 17,
   "metadata": {},
   "outputs": [
    {
     "name": "stdout",
     "output_type": "stream",
     "text": [
      "{'_id': ObjectId('5f0b27488b81520990b159f5'), 'firstname': 'pradeep', 'lastname': 'meti', 'department': 'ece', 'qualification': 'BE', 'age': 27}\n"
     ]
    }
   ],
   "source": [
    "for pp in info.find({'$and':[{'firstname':'pradeep'},{'age':27}]}):\n",
    "    print(pp)"
   ]
  },
  {
   "cell_type": "markdown",
   "metadata": {},
   "source": [
    "Combining \"$and\" and  \"$lt\""
   ]
  },
  {
   "cell_type": "code",
   "execution_count": 19,
   "metadata": {},
   "outputs": [
    {
     "name": "stdout",
     "output_type": "stream",
     "text": [
      "{'_id': ObjectId('5f0b27488b81520990b159f5'), 'firstname': 'pradeep', 'lastname': 'meti', 'department': 'ece', 'qualification': 'BE', 'age': 27}\n"
     ]
    }
   ],
   "source": [
    "for pp in info.find({'$and':[{'firstname':'pradeep'},{'age':{'$lt':28}}]}):\n",
    "    print(pp)"
   ]
  },
  {
   "cell_type": "code",
   "execution_count": null,
   "metadata": {},
   "outputs": [],
   "source": []
  }
 ],
 "metadata": {
  "kernelspec": {
   "display_name": "Python 3",
   "language": "python",
   "name": "python3"
  },
  "language_info": {
   "codemirror_mode": {
    "name": "ipython",
    "version": 3
   },
   "file_extension": ".py",
   "mimetype": "text/x-python",
   "name": "python",
   "nbconvert_exporter": "python",
   "pygments_lexer": "ipython3",
   "version": "3.7.7"
  }
 },
 "nbformat": 4,
 "nbformat_minor": 4
}
